{
 "cells": [
  {
   "cell_type": "code",
   "execution_count": 121,
   "metadata": {},
   "outputs": [],
   "source": [
    "import numpy as np\n",
    "import pandas as pd\n",
    "from sklearn.model_selection import train_test_split\n",
    "from sklearn.preprocessing import StandardScaler\n",
    "import matplotlib.pyplot as plt\n"
   ]
  },
  {
   "cell_type": "code",
   "execution_count": 122,
   "metadata": {},
   "outputs": [],
   "source": [
    "# Load the data\n",
    "file_path = './data.csv'\n",
    "data = pd.read_csv(file_path)"
   ]
  },
  {
   "cell_type": "code",
   "execution_count": 123,
   "metadata": {},
   "outputs": [],
   "source": [
    "# Handle missing values\n",
    "data.dropna(subset=['horsepower'], inplace=True)\n",
    "data.drop(columns=['car_name'], inplace=True)"
   ]
  },
  {
   "cell_type": "code",
   "execution_count": 124,
   "metadata": {},
   "outputs": [],
   "source": [
    "# Normalize/scale the data\n",
    "scaler = StandardScaler()\n",
    "scaled_data_array = scaler.fit_transform(data)\n",
    "scaled_data = pd.DataFrame(scaled_data_array, columns=data.columns)"
   ]
  },
  {
   "cell_type": "code",
   "execution_count": 125,
   "metadata": {},
   "outputs": [],
   "source": [
    "# Split into features and target variable\n",
    "X = scaled_data.drop('mpg', axis=1).values\n",
    "y = scaled_data['mpg'].values\n",
    "\n",
    "# Split into training and testing sets\n",
    "X_train, X_test, y_train, y_test = train_test_split(X, y, test_size=0.2, random_state=42)\n",
    "\n",
    "# Add a column of ones to include the intercept in the model\n",
    "X_train = np.hstack([np.ones((X_train.shape[0], 1)), X_train])\n",
    "X_test = np.hstack([np.ones((X_test.shape[0], 1)), X_test])"
   ]
  },
  {
   "cell_type": "code",
   "execution_count": 126,
   "metadata": {},
   "outputs": [],
   "source": [
    "# Initialize parameters\n",
    "theta = np.zeros(X_train.shape[1])\n",
    "learning_rate = .1\n",
    "n_iterations = 1000\n",
    "tolerance = 1e-6"
   ]
  },
  {
   "cell_type": "code",
   "execution_count": 127,
   "metadata": {},
   "outputs": [],
   "source": [
    "# Define the cost function\n",
    "def compute_cost(X, y, theta):\n",
    "    m = len(y)\n",
    "    predictions = X.dot(theta)\n",
    "    cost = (1 / (2 * m)) * np.sum((predictions - y) ** 2)\n",
    "    return cost\n",
    "\n",
    "# Implement gradient descent\n",
    "def gradient_descent(X, y, theta, learning_rate, n_iterations, tolerance):\n",
    "    m = len(y)\n",
    "    cost_history = []\n",
    "    for i in range(n_iterations):\n",
    "        gradients = (1 / m) * X.T.dot(X.dot(theta) - y)\n",
    "        theta = theta - learning_rate * gradients\n",
    "        cost = compute_cost(X, y, theta)\n",
    "        cost_history.append(cost)\n",
    "        if i > 0 and abs(cost_history[-2] - cost_history[-1]) < tolerance:\n",
    "            break\n",
    "    return theta, cost_history"
   ]
  },
  {
   "cell_type": "code",
   "execution_count": 128,
   "metadata": {},
   "outputs": [
    {
     "name": "stdout",
     "output_type": "stream",
     "text": [
      "Mean Squared Error: 0.17919974345893772\n",
      "R^2 Score: 0.7866664828347635\n"
     ]
    }
   ],
   "source": [
    "# Train the model using gradient descent\n",
    "theta, cost_history = gradient_descent(X_train, y_train, theta, learning_rate, n_iterations, tolerance)\n",
    "\n",
    "# Predict on the test set\n",
    "y_pred = X_test.dot(theta)\n",
    "\n",
    "# Evaluate the model\n",
    "mse = np.mean((y_test - y_pred) ** 2)\n",
    "r2 = 1 - (np.sum((y_test - y_pred) ** 2) / np.sum((y_test - np.mean(y_test)) ** 2))\n",
    "\n",
    "print(f'Mean Squared Error: {mse}')\n",
    "print(f'R^2 Score: {r2}')"
   ]
  },
  {
   "cell_type": "code",
   "execution_count": 129,
   "metadata": {},
   "outputs": [
    {
     "data": {
      "image/png": "[encoded data removed]",
      "text/plain": [
       "<Figure size 640x480 with 1 Axes>"
      ]
     },
     "metadata": {},
     "output_type": "display_data"
    }
   ],
   "source": [
    "# Plotting Cost vs. Number of Iterations\n",
    "plt.plot(cost_history)\n",
    "plt.xlabel('Iterations')\n",
    "plt.ylabel('Cost (MSE)')\n",
    "plt.title('Cost vs. Number of Iterations')\n",
    "plt.show()"
   ]
  },
  {
   "cell_type": "code",
   "execution_count": 130,
   "metadata": {},
   "outputs": [],
   "source": [
    "# Save the model parameters\n",
    "coefficients = theta\n",
    "\n",
    "# Log file\n",
    "log_data = {\n",
    "    'iterations': len(cost_history),\n",
    "    'learning_rate': learning_rate,\n",
    "    'mse': mse,\n",
    "    'r2': r2,\n",
    "    'coefficients': coefficients.tolist()\n",
    "}\n",
    "\n",
    "with open('part1_log.txt', 'w') as f:\n",
    "    f.write(str(log_data))\n",
    "\n",
    "# Answer the questions\n",
    "best_solution = \"Are you satisfied that the package has found the best solution? Explain.\"\n",
    "explanation = \"\"\"\n",
    "Yes, the gradient descent implementation has converged to a solution where the cost function (MSE) has been minimized.\n",
    "The R^2 score indicates how well the model predicts the target variable. Depending on the score, further tuning of\n",
    "learning rate and iterations might be required for better performance.\n",
    "\"\"\"\n",
    "\n",
    "with open('part1_report.txt', 'w') as f:\n",
    "    f.write(best_solution + '\\n')\n",
    "    f.write(explanation + '\\n')\n",
    "    f.write('Log Data:\\n')\n",
    "    f.write(str(log_data))"
   ]
  }
 ],
 "metadata": {
  "kernelspec": {
   "display_name": "env",
   "language": "python",
   "name": "python3"
  },
  "language_info": {
   "codemirror_mode": {
    "name": "ipython",
    "version": 3
   },
   "file_extension": ".py",
   "mimetype": "text/x-python",
   "name": "python",
   "nbconvert_exporter": "python",
   "pygments_lexer": "ipython3",
   "version": "3.10.12"
  }
 },
 "nbformat": 4,
 "nbformat_minor": 2
}
